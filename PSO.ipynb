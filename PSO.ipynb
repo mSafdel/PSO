{
 "cells": [
  {
   "cell_type": "code",
   "execution_count": 2,
   "metadata": {},
   "outputs": [],
   "source": [
    "import numpy as np\n",
    "import matplotlib.pyplot as plt"
   ]
  },
  {
   "cell_type": "code",
   "execution_count": 3,
   "metadata": {},
   "outputs": [],
   "source": [
    "C1=0.1\n",
    "C2=0.1\n",
    "IW=0.9\n",
    "SN=20\n",
    "MAX_EPOCH=100\n",
    "Xmin=-5\n",
    "Xmax=5\n",
    "numvar=2"
   ]
  },
  {
   "cell_type": "code",
   "execution_count": 4,
   "metadata": {},
   "outputs": [],
   "source": [
    "def f(x1,x2):\n",
    "    return x1**2 + x2**2"
   ]
  },
  {
   "cell_type": "code",
   "execution_count": 5,
   "metadata": {},
   "outputs": [],
   "source": [
    "def initialize_swarm():\n",
    "    poses=np.random.randint(Xmin,Xmax,SN*2).reshape(SN,numvar)\n",
    "    f_values=[f(p[0],p[1]) for p in poses]\n",
    "    pBest=poses\n",
    "    velocity=np.full(SN*2,10**-8).reshape(SN,numvar)\n",
    "    \n",
    "    # for i in range(SN):\n",
    "    #     print(f\"Pose {i} is: {poses[i]} - pbest is: {pBest[i]}\")\n",
    "        \n",
    "    return poses,f_values,velocity,pBest\n"
   ]
  },
  {
   "cell_type": "code",
   "execution_count": 6,
   "metadata": {},
   "outputs": [],
   "source": [
    "def findGBest(pBest, fValues ,oldGBest_f,oldGBest_Pos):\n",
    "    tempGbest_f=oldGBest_f\n",
    "    tempGbest_Pos=oldGBest_Pos\n",
    "\n",
    "    for i in range(SN):\n",
    "        #print(f\"fValues[i] is {fValues[i]} and oldGBest_f is:{tempGbest_f}\")\n",
    "        if fValues[i]<tempGbest_f:\n",
    "            tempGbest_f=fValues[i]\n",
    "            tempGbest_Pos= pBest[i]\n",
    "\n",
    "    #print(f\"tempGbest_f is: {tempGbest_f} and tempGbest_Pos is: {tempGbest_Pos}\")\n",
    "    return tempGbest_f,tempGbest_Pos\n"
   ]
  },
  {
   "cell_type": "code",
   "execution_count": 1,
   "metadata": {},
   "outputs": [],
   "source": [
    "# def myplot(particle,gBestPos):\n",
    "#     xAxis=particle[::, 0]\n",
    "#     yAxis=particle[::, 1]\n",
    "\n",
    "#     plt.clf()\n",
    "#     plt.plot(xAxis,yAxis,'o')\n",
    "#     plt.plot(gBestPos[0],gBestPos[1],'*')\n",
    "#     plt.grid()\n",
    "#     plt.show()"
   ]
  },
  {
   "cell_type": "code",
   "execution_count": null,
   "metadata": {},
   "outputs": [],
   "source": [
    "positions,fvals,velocity,PBest = initialize_swarm()\n",
    "gBest_f = f(positions[0,0],positions[0,1])\n",
    "#print(f\"gbest_f is: {gBest_f}\")\n",
    "gBest_Pos = positions[0]\n",
    "#print(f\"gBest_Pos is: {gBest_Pos}\")\n",
    "gBest_f,gBest_Pos = findGBest(PBest,fvals,gBest_f,gBest_Pos)\n",
    "# myplot(positions,gBest_Pos)"
   ]
  },
  {
   "cell_type": "code",
   "execution_count": null,
   "metadata": {},
   "outputs": [],
   "source": [
    "epoch=1\n",
    "w=IW\n",
    "\n",
    "while epoch<MAX_EPOCH:\n",
    "    for i in range(SN):\n",
    "        r1=Xmin+(Xmax-Xmin)*np.random.random(numvar)\n",
    "        r2=Xmin+(Xmax-Xmin)*np.random.random(numvar)\n",
    "\n",
    "        CogComponent=positions[i]-PBest[i]\n",
    "        SocComponent=positions[i]-gBest_Pos\n",
    "\n",
    "        w=(IW-w)*((MAX_EPOCH-epoch)/epoch)+w\n",
    "        velocity[i] = (w*velocity[i]) + (r1*C1*CogComponent) + (r2*C2*SocComponent)\n",
    "\n",
    "        positions[i] = positions[i] + velocity[i]\n",
    "        fvals[i] = f(positions[i,0],positions[i,1])\n",
    "\n",
    "        if fvals[i] < f(PBest[i,0],PBest[i,1]):\n",
    "            PBest[i]=positions[i]\n",
    "        \n",
    "    gBest_f,gBest_Pos= findGBest(PBest,fvals,gBest_f,gBest_Pos)\n",
    "    epoch+=1\n",
    "\n",
    "# myplot(positions,gBest_Pos)\n",
    "\n",
    "# print(f\"GBest position is: {gBest_Pos}\")\n",
    "# print(f\"GBest value is: {gBest_f}\")\n",
    "\n",
    "# print(\"positions are:\")\n",
    "# print(positions)\n",
    "\n",
    "# print(\"fValue are:\")\n",
    "# print(fvals)\n",
    "\n",
    "print(\"Velocities are:\")\n",
    "print(velocity)"
   ]
  }
 ],
 "metadata": {
  "kernelspec": {
   "display_name": "Python 3.9.12 ('base')",
   "language": "python",
   "name": "python3"
  },
  "language_info": {
   "codemirror_mode": {
    "name": "ipython",
    "version": 3
   },
   "file_extension": ".py",
   "mimetype": "text/x-python",
   "name": "python",
   "nbconvert_exporter": "python",
   "pygments_lexer": "ipython3",
   "version": "3.9.12"
  },
  "orig_nbformat": 4,
  "vscode": {
   "interpreter": {
    "hash": "ad2bdc8ecc057115af97d19610ffacc2b4e99fae6737bb82f5d7fb13d2f2c186"
   }
  }
 },
 "nbformat": 4,
 "nbformat_minor": 2
}
