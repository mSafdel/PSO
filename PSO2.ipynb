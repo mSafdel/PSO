{
 "cells": [
  {
   "cell_type": "code",
   "execution_count": 15,
   "metadata": {},
   "outputs": [],
   "source": [
    "import numpy as np\n",
    "import matplotlib.pyplot as plt\n",
    "from dataclasses import dataclass\n",
    "import copy"
   ]
  },
  {
   "cell_type": "code",
   "execution_count": 28,
   "metadata": {},
   "outputs": [],
   "source": [
    "C1=0.1\n",
    "C2=0.1\n",
    "INERTIA_WEIGHTS=0.9\n",
    "SWARM_SIZE=20\n",
    "MAX_EPOCH=100\n",
    "Xmin=-5\n",
    "Xmax=5\n",
    "numvar=2"
   ]
  },
  {
   "cell_type": "code",
   "execution_count": 29,
   "metadata": {},
   "outputs": [],
   "source": [
    "@dataclass\n",
    "class Position:\n",
    "    x1: int = 0\n",
    "    x2: int = 0"
   ]
  },
  {
   "cell_type": "code",
   "execution_count": 30,
   "metadata": {},
   "outputs": [],
   "source": [
    "@dataclass\n",
    "class Velocity:\n",
    "    v1: float = 10**-8\n",
    "    v2: float = 10**-8"
   ]
  },
  {
   "cell_type": "code",
   "execution_count": 31,
   "metadata": {},
   "outputs": [],
   "source": [
    "@dataclass\n",
    "class Particle:\n",
    "    position: Position\n",
    "    pbest: Position \n",
    "    velocity: Velocity\n",
    "    f : float = 0.0"
   ]
  },
  {
   "cell_type": "code",
   "execution_count": 32,
   "metadata": {},
   "outputs": [],
   "source": [
    "#objective function\n",
    "def f(pos):\n",
    "    return pos.x1**2 + pos.x2**2"
   ]
  },
  {
   "cell_type": "code",
   "execution_count": 33,
   "metadata": {},
   "outputs": [],
   "source": [
    "def initialize_swarm():\n",
    "    particles=[]\n",
    "    for i in range(SWARM_SIZE):\n",
    "        p=Particle(Position(),Position(),Velocity())\n",
    "        p.position.x1=np.random.randint(Xmin,Xmax)\n",
    "        p.position.x2=np.random.randint(Xmin,Xmax)\n",
    "\n",
    "        p.pbest.x1=p.position.x1\n",
    "        p.pbest.x2=p.position.x2\n",
    "\n",
    "        p.pbest=copy.deepcopy(p.position)\n",
    "        p.f=f(p.position)\n",
    "\n",
    "        particles.append(p)\n",
    "\n",
    "    return particles"
   ]
  },
  {
   "cell_type": "code",
   "execution_count": 34,
   "metadata": {},
   "outputs": [],
   "source": [
    "def findGBest(particles,gBest):\n",
    "    tempGBest=Particle(Position(),Position(),Velocity())\n",
    "\n",
    "    for p in particles:\n",
    "        if f(p.pbest)<gBest.f:\n",
    "            tempGBest=copy.deepcopy(p)\n",
    "\n",
    "    return tempGBest\n"
   ]
  },
  {
   "cell_type": "code",
   "execution_count": 35,
   "metadata": {},
   "outputs": [],
   "source": [
    "ss=input(\"Enter Swarm size: \")\n",
    "if(ss.strip() ==''):\n",
    "    SWARM_SIZE= np.random.randint(10,30)\n",
    "else:\n",
    "    SWARM_SIZE=10\n",
    "\n",
    "particles=initialize_swarm()\n",
    "gbest= copy.deepcopy(particles[0])\n",
    "gbest=findGBest(particles,gbest)\n",
    "#myplot(positions,gBest_Pos)"
   ]
  },
  {
   "cell_type": "code",
   "execution_count": 24,
   "metadata": {},
   "outputs": [],
   "source": [
    "# for i in range(SWARM_SIZE):\n",
    "#     print(f\"Position {i} is: {particles[i].position} and f is: {particles[i].f}\")\n",
    "\n",
    "# print(f\"gbest is: {gbest}\")"
   ]
  },
  {
   "cell_type": "code",
   "execution_count": null,
   "metadata": {},
   "outputs": [],
   "source": [
    "epoch=1\n",
    "inertia_weights=INERTIA_WEIGHTS\n",
    "\n",
    "while epoch<MAX_EPOCH:\n",
    "    for particle in particles:\n",
    "        r1=Xmin+(Xmax-Xmin)*np.random.random(numvar)\n",
    "        r2=Xmin+(Xmax-Xmin)*np.random.random(numvar)\n",
    "\n",
    "        inertia_weights=(INERTIA_WEIGHTS-inertia_weights)*((MAX_EPOCH-epoch)/epoch)+inertia_weights\n",
    "        \n",
    "        CogComponent= np.array([particle.position.x1,particle.position.x2]) - np.array([particle.pbest.x1,particle.pbest.x2])\n",
    "        SocComponent= np.array([particle.position.x1,particle.position.x2]) - np.array([gbest.position.x1,gbest.position.x2])\n",
    "\n",
    "        v=(inertia_weights*np.array([particle.velocity.v1,particle.velocity.v2])) + (r1*C1*CogComponent) + (r2*C2*SocComponent)\n",
    "        particle.velocity.v1=v[0]\n",
    "        particle.velocity.v2=v[1]\n",
    "\n",
    "        particle.position.x1=particle.position.x1+particle.velocity.v1\n",
    "        particle.position.x2=particle.position.x2+particle.velocity.v2\n",
    "        \n",
    "        particle.f=f(particle.position)\n",
    "        if(particle.f < f(particle.pbest)):\n",
    "            particle.pbest=particle.position\n",
    "\n",
    "    gbest=findGBest(particles,gbest)\n",
    "    epoch+=1\n",
    "\n",
    "print(f\"gbest is: {gbest}\")"
   ]
  }
 ],
 "metadata": {
  "kernelspec": {
   "display_name": "Python 3.9.12 ('base')",
   "language": "python",
   "name": "python3"
  },
  "language_info": {
   "codemirror_mode": {
    "name": "ipython",
    "version": 3
   },
   "file_extension": ".py",
   "mimetype": "text/x-python",
   "name": "python",
   "nbconvert_exporter": "python",
   "pygments_lexer": "ipython3",
   "version": "3.9.12"
  },
  "orig_nbformat": 4,
  "vscode": {
   "interpreter": {
    "hash": "ad2bdc8ecc057115af97d19610ffacc2b4e99fae6737bb82f5d7fb13d2f2c186"
   }
  }
 },
 "nbformat": 4,
 "nbformat_minor": 2
}
